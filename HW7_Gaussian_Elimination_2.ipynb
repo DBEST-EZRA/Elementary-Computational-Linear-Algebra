{
  "nbformat": 4,
  "nbformat_minor": 0,
  "metadata": {
    "colab": {
      "provenance": []
    },
    "kernelspec": {
      "name": "python3",
      "display_name": "Python 3"
    },
    "language_info": {
      "name": "python"
    }
  },
  "cells": [
    {
      "cell_type": "markdown",
      "source": [
        "**Problem 1** Row Echelon Form and Rank"
      ],
      "metadata": {
        "id": "RslrDag6bbNN"
      }
    },
    {
      "cell_type": "code",
      "execution_count": 1,
      "metadata": {
        "id": "MLrLrFg8aVKn"
      },
      "outputs": [],
      "source": [
        "import numpy as np\n",
        "\n",
        "#Initializing matrix for test case a) in Problem 1.1\n",
        "A1_square = np.array([[1, 0, 1, 0], [0, 0, 0, 0], [0, 0, 3, 1], [0, 0, 3, 0]], dtype=np.float64)\n",
        "\n",
        "#Initializing matrix for test case b) in Problem 1.1\n",
        "A2_square = np.array([[0, 1, 1], [2, 6, 4], [1, 1, 4]], dtype=np.float64)"
      ]
    },
    {
      "cell_type": "markdown",
      "source": [
        "**1.1** Row echelon form for square matrices by Gaussian elimination"
      ],
      "metadata": {
        "id": "9t1YqR0EbaHQ"
      }
    },
    {
      "cell_type": "code",
      "source": [
        "def GE_square(A, print_flag):\n",
        "  R = A.copy()\n",
        "  n = R.shape[0]\n",
        "  pvt_list = []\n",
        "  k = 0\n",
        "  eps = np.finfo(np.float32).eps\n",
        "  #################### YOUR CODE STARTS HERE ####################\n",
        "  for r in range(n):\n",
        "    while np.amax(np.abs(R[r:n, k])) <= eps:\n",
        "      k += 1\n",
        "      if k == n:\n",
        "        if print_flag:\n",
        "          print(\"Early stop: no more non-zero columns.\")\n",
        "        return R, pvt_list\n",
        "\n",
        "    # Row with largest absolute zero\n",
        "    i = np.argmax(np.abs(R[r:n, k])) + r\n",
        "\n",
        "    # Swap current row r with row i\n",
        "    R[[r, i], :] = R[[i, r], :]\n",
        "    pvt_list.append(k)\n",
        "\n",
        "    if print_flag:\n",
        "      print(f\"After row swap (Row {r} with Row {i}):\\n\", R)\n",
        "      print(\"Current pivot list:\", pvt_list)\n",
        "\n",
        "    # Remove all rows below row r\n",
        "    for j in range(r + 1, n):\n",
        "      lamb = R[j, k] / R[r, k]\n",
        "      R[j, :] = R[j, :] - lamb * R[r, :]\n",
        "\n",
        "    if print_flag:\n",
        "      print(f\"After elimination below Row {r}:\\n\", R)\n",
        "      print(\"Current pivot list:\", pvt_list)\n",
        "\n",
        "  ###############################################################\n",
        "  return R, pvt_list"
      ],
      "metadata": {
        "id": "oA62GNif8HAM"
      },
      "execution_count": 3,
      "outputs": []
    },
    {
      "cell_type": "code",
      "source": [
        "R, pvt_idx_list = GE_square(A1_square, True)\n",
        "# print out the row echelon form\n",
        "print(\"row echelon form of A1_square:\")\n",
        "print(R)\n",
        "# print out the indices of pivot values\n",
        "print(\"Indices of pivot values:\")\n",
        "print(pvt_idx_list)"
      ],
      "metadata": {
        "id": "Jd3aDgAIcWhw",
        "colab": {
          "base_uri": "https://localhost:8080/"
        },
        "outputId": "810cf0ea-662b-475a-c6cd-c9218056d806"
      },
      "execution_count": 4,
      "outputs": [
        {
          "output_type": "stream",
          "name": "stdout",
          "text": [
            "After row swap (Row 0 with Row 0):\n",
            " [[1. 0. 1. 0.]\n",
            " [0. 0. 0. 0.]\n",
            " [0. 0. 3. 1.]\n",
            " [0. 0. 3. 0.]]\n",
            "Current pivot list: [0]\n",
            "After elimination below Row 0:\n",
            " [[1. 0. 1. 0.]\n",
            " [0. 0. 0. 0.]\n",
            " [0. 0. 3. 1.]\n",
            " [0. 0. 3. 0.]]\n",
            "Current pivot list: [0]\n",
            "After row swap (Row 1 with Row 2):\n",
            " [[1. 0. 1. 0.]\n",
            " [0. 0. 3. 1.]\n",
            " [0. 0. 0. 0.]\n",
            " [0. 0. 3. 0.]]\n",
            "Current pivot list: [0, 2]\n",
            "After elimination below Row 1:\n",
            " [[ 1.  0.  1.  0.]\n",
            " [ 0.  0.  3.  1.]\n",
            " [ 0.  0.  0.  0.]\n",
            " [ 0.  0.  0. -1.]]\n",
            "Current pivot list: [0, 2]\n",
            "After row swap (Row 2 with Row 3):\n",
            " [[ 1.  0.  1.  0.]\n",
            " [ 0.  0.  3.  1.]\n",
            " [ 0.  0.  0. -1.]\n",
            " [ 0.  0.  0.  0.]]\n",
            "Current pivot list: [0, 2, 3]\n",
            "After elimination below Row 2:\n",
            " [[ 1.  0.  1.  0.]\n",
            " [ 0.  0.  3.  1.]\n",
            " [ 0.  0.  0. -1.]\n",
            " [ 0.  0.  0.  0.]]\n",
            "Current pivot list: [0, 2, 3]\n",
            "Early stop: no more non-zero columns.\n",
            "row echelon form of A1_square:\n",
            "[[ 1.  0.  1.  0.]\n",
            " [ 0.  0.  3.  1.]\n",
            " [ 0.  0.  0. -1.]\n",
            " [ 0.  0.  0.  0.]]\n",
            "Indices of pivot values:\n",
            "[0, 2, 3]\n"
          ]
        }
      ]
    },
    {
      "cell_type": "code",
      "source": [
        "R, pvt_idx_list = GE_square(A2_square, True)\n",
        "# print out the row echelon form\n",
        "print(\"row echelon form of A2_square:\")\n",
        "print(R)\n",
        "# print out the indices of pivot values\n",
        "print(\"Indices of pivot values:\")\n",
        "print(pvt_idx_list)"
      ],
      "metadata": {
        "id": "sNcoOPuCdbGw",
        "colab": {
          "base_uri": "https://localhost:8080/"
        },
        "outputId": "ae080ac7-827d-46b4-e2c7-1e5736ac2424"
      },
      "execution_count": 5,
      "outputs": [
        {
          "output_type": "stream",
          "name": "stdout",
          "text": [
            "After row swap (Row 0 with Row 1):\n",
            " [[2. 6. 4.]\n",
            " [0. 1. 1.]\n",
            " [1. 1. 4.]]\n",
            "Current pivot list: [0]\n",
            "After elimination below Row 0:\n",
            " [[ 2.  6.  4.]\n",
            " [ 0.  1.  1.]\n",
            " [ 0. -2.  2.]]\n",
            "Current pivot list: [0]\n",
            "After row swap (Row 1 with Row 2):\n",
            " [[ 2.  6.  4.]\n",
            " [ 0. -2.  2.]\n",
            " [ 0.  1.  1.]]\n",
            "Current pivot list: [0, 1]\n",
            "After elimination below Row 1:\n",
            " [[ 2.  6.  4.]\n",
            " [ 0. -2.  2.]\n",
            " [ 0.  0.  2.]]\n",
            "Current pivot list: [0, 1]\n",
            "After row swap (Row 2 with Row 2):\n",
            " [[ 2.  6.  4.]\n",
            " [ 0. -2.  2.]\n",
            " [ 0.  0.  2.]]\n",
            "Current pivot list: [0, 1, 2]\n",
            "After elimination below Row 2:\n",
            " [[ 2.  6.  4.]\n",
            " [ 0. -2.  2.]\n",
            " [ 0.  0.  2.]]\n",
            "Current pivot list: [0, 1, 2]\n",
            "row echelon form of A2_square:\n",
            "[[ 2.  6.  4.]\n",
            " [ 0. -2.  2.]\n",
            " [ 0.  0.  2.]]\n",
            "Indices of pivot values:\n",
            "[0, 1, 2]\n"
          ]
        }
      ]
    },
    {
      "cell_type": "markdown",
      "source": [
        "**1.2**  Row echelon form for rectangular matrices by Gaussian elimination"
      ],
      "metadata": {
        "id": "k9P0LIzt-Jbj"
      }
    },
    {
      "cell_type": "code",
      "source": [
        "#Initializing matrix for test case a) in Problem 1.2\n",
        "A1_rect = np.array([[1, 2, 2, -1], [4, 8, 9, 6], [0, 3, 2, 9]], dtype=np.float64)\n",
        "\n",
        "#Initializing matrix for test case b) in Problem 1.2\n",
        "A2_rect = np.array([[1, 2, 3, 1, 2], [0, 4, 6, 0, 1], [2, 4, 8, 0, 0], [0, 1, 2, 0, 9]], dtype=np.float64)"
      ],
      "metadata": {
        "id": "zoQnq52zzwoB"
      },
      "execution_count": 7,
      "outputs": []
    },
    {
      "cell_type": "code",
      "source": [
        "def GE_rectangular(A, print_flag):\n",
        "  R = A.copy()\n",
        "  n = R.shape[0] #number of rows in A\n",
        "  m = R.shape[1] #number of columns in A\n",
        "  pvt_list = []\n",
        "  k = 0\n",
        "  eps = np.finfo(np.float32).eps\n",
        "  #################### YOUR CODE STARTS HERE ####################\n",
        "  for r in range(n):\n",
        "    while k < m and np.amax(np.abs(R[r:n, k])) <= eps:\n",
        "      k += 1\n",
        "    if k == m:\n",
        "      if print_flag:\n",
        "        print(\"Early stop: no more non-zero columns.\")\n",
        "      return R, pvt_list\n",
        "    i = np.argmax(np.abs(R[r:n, k])) + r\n",
        "\n",
        "    # Swap current row r with row i\n",
        "    R[[r, i], :] = R[[i, r], :]\n",
        "    pvt_list.append(k)\n",
        "\n",
        "    if print_flag:\n",
        "      print(f\"After row swap (Row {r} with Row {i}):\\n\", R)\n",
        "      print(\"Current pivot list:\", pvt_list)\n",
        "\n",
        "    # Eliminate all rows below row r\n",
        "    for j in range(r + 1, n):\n",
        "      if R[r, k] != 0:\n",
        "        lamb = R[j, k] / R[r, k]\n",
        "        R[j, :] = R[j, :] - lamb * R[r, :]\n",
        "\n",
        "    if print_flag:\n",
        "      print(f\"After elimination below Row {r}:\\n\", R)\n",
        "      print(\"Current pivot list:\", pvt_list)\n",
        "\n",
        "    # next iteration\n",
        "    k += 1\n",
        "\n",
        "  ###############################################################\n",
        "  return R, pvt_list"
      ],
      "metadata": {
        "id": "kzldlDZNSDUl"
      },
      "execution_count": 8,
      "outputs": []
    },
    {
      "cell_type": "code",
      "source": [
        "R, pvt_idx_list = GE_rectangular(A1_rect, True)\n",
        "# print out the row echelon form\n",
        "print(\"row echelon form of A1_rect:\")\n",
        "print(R)\n",
        "# print out the indices of pivot values\n",
        "print(\"Indices of pivot values:\")\n",
        "print(pvt_idx_list)"
      ],
      "metadata": {
        "id": "BNl5VvKoVN7U",
        "colab": {
          "base_uri": "https://localhost:8080/"
        },
        "outputId": "0b9c24da-0cca-4e30-b9cf-ded1688e53d1"
      },
      "execution_count": 9,
      "outputs": [
        {
          "output_type": "stream",
          "name": "stdout",
          "text": [
            "After row swap (Row 0 with Row 1):\n",
            " [[ 4.  8.  9.  6.]\n",
            " [ 1.  2.  2. -1.]\n",
            " [ 0.  3.  2.  9.]]\n",
            "Current pivot list: [0]\n",
            "After elimination below Row 0:\n",
            " [[ 4.    8.    9.    6.  ]\n",
            " [ 0.    0.   -0.25 -2.5 ]\n",
            " [ 0.    3.    2.    9.  ]]\n",
            "Current pivot list: [0]\n",
            "After row swap (Row 1 with Row 2):\n",
            " [[ 4.    8.    9.    6.  ]\n",
            " [ 0.    3.    2.    9.  ]\n",
            " [ 0.    0.   -0.25 -2.5 ]]\n",
            "Current pivot list: [0, 1]\n",
            "After elimination below Row 1:\n",
            " [[ 4.    8.    9.    6.  ]\n",
            " [ 0.    3.    2.    9.  ]\n",
            " [ 0.    0.   -0.25 -2.5 ]]\n",
            "Current pivot list: [0, 1]\n",
            "After row swap (Row 2 with Row 2):\n",
            " [[ 4.    8.    9.    6.  ]\n",
            " [ 0.    3.    2.    9.  ]\n",
            " [ 0.    0.   -0.25 -2.5 ]]\n",
            "Current pivot list: [0, 1, 2]\n",
            "After elimination below Row 2:\n",
            " [[ 4.    8.    9.    6.  ]\n",
            " [ 0.    3.    2.    9.  ]\n",
            " [ 0.    0.   -0.25 -2.5 ]]\n",
            "Current pivot list: [0, 1, 2]\n",
            "row echelon form of A1_rect:\n",
            "[[ 4.    8.    9.    6.  ]\n",
            " [ 0.    3.    2.    9.  ]\n",
            " [ 0.    0.   -0.25 -2.5 ]]\n",
            "Indices of pivot values:\n",
            "[0, 1, 2]\n"
          ]
        }
      ]
    },
    {
      "cell_type": "code",
      "source": [
        "R, pvt_idx_list = GE_rectangular(A2_rect, True)\n",
        "# print out the row echelon form\n",
        "print(\"row echelon form of A2_rect:\")\n",
        "print(R)\n",
        "# print out the indices of pivot values\n",
        "print(\"Indices of pivot values:\")\n",
        "print(pvt_idx_list)"
      ],
      "metadata": {
        "id": "nzJ_hSrQVTDR",
        "colab": {
          "base_uri": "https://localhost:8080/"
        },
        "outputId": "5593f3e4-12fa-4bb4-d8d7-bd5ca1f802d6"
      },
      "execution_count": 10,
      "outputs": [
        {
          "output_type": "stream",
          "name": "stdout",
          "text": [
            "After row swap (Row 0 with Row 2):\n",
            " [[2. 4. 8. 0. 0.]\n",
            " [0. 4. 6. 0. 1.]\n",
            " [1. 2. 3. 1. 2.]\n",
            " [0. 1. 2. 0. 9.]]\n",
            "Current pivot list: [0]\n",
            "After elimination below Row 0:\n",
            " [[ 2.  4.  8.  0.  0.]\n",
            " [ 0.  4.  6.  0.  1.]\n",
            " [ 0.  0. -1.  1.  2.]\n",
            " [ 0.  1.  2.  0.  9.]]\n",
            "Current pivot list: [0]\n",
            "After row swap (Row 1 with Row 1):\n",
            " [[ 2.  4.  8.  0.  0.]\n",
            " [ 0.  4.  6.  0.  1.]\n",
            " [ 0.  0. -1.  1.  2.]\n",
            " [ 0.  1.  2.  0.  9.]]\n",
            "Current pivot list: [0, 1]\n",
            "After elimination below Row 1:\n",
            " [[ 2.    4.    8.    0.    0.  ]\n",
            " [ 0.    4.    6.    0.    1.  ]\n",
            " [ 0.    0.   -1.    1.    2.  ]\n",
            " [ 0.    0.    0.5   0.    8.75]]\n",
            "Current pivot list: [0, 1]\n",
            "After row swap (Row 2 with Row 2):\n",
            " [[ 2.    4.    8.    0.    0.  ]\n",
            " [ 0.    4.    6.    0.    1.  ]\n",
            " [ 0.    0.   -1.    1.    2.  ]\n",
            " [ 0.    0.    0.5   0.    8.75]]\n",
            "Current pivot list: [0, 1, 2]\n",
            "After elimination below Row 2:\n",
            " [[ 2.    4.    8.    0.    0.  ]\n",
            " [ 0.    4.    6.    0.    1.  ]\n",
            " [ 0.    0.   -1.    1.    2.  ]\n",
            " [ 0.    0.    0.    0.5   9.75]]\n",
            "Current pivot list: [0, 1, 2]\n",
            "After row swap (Row 3 with Row 3):\n",
            " [[ 2.    4.    8.    0.    0.  ]\n",
            " [ 0.    4.    6.    0.    1.  ]\n",
            " [ 0.    0.   -1.    1.    2.  ]\n",
            " [ 0.    0.    0.    0.5   9.75]]\n",
            "Current pivot list: [0, 1, 2, 3]\n",
            "After elimination below Row 3:\n",
            " [[ 2.    4.    8.    0.    0.  ]\n",
            " [ 0.    4.    6.    0.    1.  ]\n",
            " [ 0.    0.   -1.    1.    2.  ]\n",
            " [ 0.    0.    0.    0.5   9.75]]\n",
            "Current pivot list: [0, 1, 2, 3]\n",
            "row echelon form of A2_rect:\n",
            "[[ 2.    4.    8.    0.    0.  ]\n",
            " [ 0.    4.    6.    0.    1.  ]\n",
            " [ 0.    0.   -1.    1.    2.  ]\n",
            " [ 0.    0.    0.    0.5   9.75]]\n",
            "Indices of pivot values:\n",
            "[0, 1, 2, 3]\n"
          ]
        }
      ]
    },
    {
      "cell_type": "code",
      "source": [
        "#test your implementation on Eq. (3) (i.e., the worked square example) for debugging\n",
        "\n",
        "R, pvt_idx_list = GE_rectangular(A1_square, True)\n",
        "# print out the row echelon form\n",
        "print(\"row echelon form of A1_square:\")\n",
        "print(R)\n",
        "# print out the indices of pivot values\n",
        "print(\"Indices of pivot values:\")\n",
        "print(pvt_idx_list)"
      ],
      "metadata": {
        "id": "PeTduw2xcFY5",
        "colab": {
          "base_uri": "https://localhost:8080/"
        },
        "outputId": "1ebbc5bd-7b41-4289-bf48-f9842a092dfb"
      },
      "execution_count": 11,
      "outputs": [
        {
          "output_type": "stream",
          "name": "stdout",
          "text": [
            "After row swap (Row 0 with Row 0):\n",
            " [[1. 0. 1. 0.]\n",
            " [0. 0. 0. 0.]\n",
            " [0. 0. 3. 1.]\n",
            " [0. 0. 3. 0.]]\n",
            "Current pivot list: [0]\n",
            "After elimination below Row 0:\n",
            " [[1. 0. 1. 0.]\n",
            " [0. 0. 0. 0.]\n",
            " [0. 0. 3. 1.]\n",
            " [0. 0. 3. 0.]]\n",
            "Current pivot list: [0]\n",
            "After row swap (Row 1 with Row 2):\n",
            " [[1. 0. 1. 0.]\n",
            " [0. 0. 3. 1.]\n",
            " [0. 0. 0. 0.]\n",
            " [0. 0. 3. 0.]]\n",
            "Current pivot list: [0, 2]\n",
            "After elimination below Row 1:\n",
            " [[ 1.  0.  1.  0.]\n",
            " [ 0.  0.  3.  1.]\n",
            " [ 0.  0.  0.  0.]\n",
            " [ 0.  0.  0. -1.]]\n",
            "Current pivot list: [0, 2]\n",
            "After row swap (Row 2 with Row 3):\n",
            " [[ 1.  0.  1.  0.]\n",
            " [ 0.  0.  3.  1.]\n",
            " [ 0.  0.  0. -1.]\n",
            " [ 0.  0.  0.  0.]]\n",
            "Current pivot list: [0, 2, 3]\n",
            "After elimination below Row 2:\n",
            " [[ 1.  0.  1.  0.]\n",
            " [ 0.  0.  3.  1.]\n",
            " [ 0.  0.  0. -1.]\n",
            " [ 0.  0.  0.  0.]]\n",
            "Current pivot list: [0, 2, 3]\n",
            "Early stop: no more non-zero columns.\n",
            "row echelon form of A1_square:\n",
            "[[ 1.  0.  1.  0.]\n",
            " [ 0.  0.  3.  1.]\n",
            " [ 0.  0.  0. -1.]\n",
            " [ 0.  0.  0.  0.]]\n",
            "Indices of pivot values:\n",
            "[0, 2, 3]\n"
          ]
        }
      ]
    },
    {
      "cell_type": "code",
      "source": [
        "#test your implementation on Eq. (4) (i.e., the worked square example) for debugging\n",
        "\n",
        "R, pvt_idx_list = GE_rectangular(A2_square, True)\n",
        "# print out the row echelon form\n",
        "print(\"row echelon form of A2_square:\")\n",
        "print(R)\n",
        "# print out the indices of pivot values\n",
        "print(\"Indices of pivot values:\")\n",
        "print(pvt_idx_list)"
      ],
      "metadata": {
        "id": "2wfY1yiFcTR5",
        "colab": {
          "base_uri": "https://localhost:8080/"
        },
        "outputId": "8b83c9cd-71aa-47bd-c951-bd0084f91165"
      },
      "execution_count": 12,
      "outputs": [
        {
          "output_type": "stream",
          "name": "stdout",
          "text": [
            "After row swap (Row 0 with Row 1):\n",
            " [[2. 6. 4.]\n",
            " [0. 1. 1.]\n",
            " [1. 1. 4.]]\n",
            "Current pivot list: [0]\n",
            "After elimination below Row 0:\n",
            " [[ 2.  6.  4.]\n",
            " [ 0.  1.  1.]\n",
            " [ 0. -2.  2.]]\n",
            "Current pivot list: [0]\n",
            "After row swap (Row 1 with Row 2):\n",
            " [[ 2.  6.  4.]\n",
            " [ 0. -2.  2.]\n",
            " [ 0.  1.  1.]]\n",
            "Current pivot list: [0, 1]\n",
            "After elimination below Row 1:\n",
            " [[ 2.  6.  4.]\n",
            " [ 0. -2.  2.]\n",
            " [ 0.  0.  2.]]\n",
            "Current pivot list: [0, 1]\n",
            "After row swap (Row 2 with Row 2):\n",
            " [[ 2.  6.  4.]\n",
            " [ 0. -2.  2.]\n",
            " [ 0.  0.  2.]]\n",
            "Current pivot list: [0, 1, 2]\n",
            "After elimination below Row 2:\n",
            " [[ 2.  6.  4.]\n",
            " [ 0. -2.  2.]\n",
            " [ 0.  0.  2.]]\n",
            "Current pivot list: [0, 1, 2]\n",
            "row echelon form of A2_square:\n",
            "[[ 2.  6.  4.]\n",
            " [ 0. -2.  2.]\n",
            " [ 0.  0.  2.]]\n",
            "Indices of pivot values:\n",
            "[0, 1, 2]\n"
          ]
        }
      ]
    },
    {
      "cell_type": "markdown",
      "source": [
        "**1.3** Matrix rank and number of pivots"
      ],
      "metadata": {
        "id": "fjz2YBq-fUgA"
      }
    },
    {
      "cell_type": "code",
      "source": [
        "X = np.array([[1, 2, 4, 1], [3, 6, 12, 3], [4, 8, 16, 4]], dtype=np.float64)\n",
        "Y = np.array([[1, 2, 4, 1], [3, 6, 12, 3], [4, 8, 16, 6]], dtype=np.float64)\n",
        "Z = np.array([[1, 2, 4, 1], [3, 5, 12, 3], [4, 8, 16, 6]], dtype=np.float64)\n",
        "# please use GE_rectangular to generate the reduced row echelon form of matrices X, Y, Z\n",
        "# And then check the rank of each matrix visually\n",
        "############################# YOUR CODE STARTS HERE #############################\n",
        "\n",
        "R_X, pvt_idx_X = GE_rectangular(X, True)\n",
        "R_Y, pvt_idx_Y = GE_rectangular(Y, True)\n",
        "R_Z, pvt_idx_Z = GE_rectangular(Z, True)\n",
        "\n",
        "# Checking Rank\n",
        "rank_X = len(pvt_idx_X)\n",
        "rank_Y = len(pvt_idx_Y)\n",
        "rank_Z = len(pvt_idx_Z)\n",
        "\n",
        "# Output\n",
        "print(\"Reduced Row Echelon Form of X:\")\n",
        "print(R_X)\n",
        "print(\"Rank of X:\", rank_X)\n",
        "\n",
        "print(\"\\nReduced Row Echelon Form of Y:\")\n",
        "print(R_Y)\n",
        "print(\"Rank of Y:\", rank_Y)\n",
        "\n",
        "print(\"\\nReduced Row Echelon Form of Z:\")\n",
        "print(R_Z)\n",
        "print(\"Rank of Z:\", rank_Z)\n",
        "\n",
        "################################################################################\n"
      ],
      "metadata": {
        "id": "3EGgNp66jA8u",
        "colab": {
          "base_uri": "https://localhost:8080/"
        },
        "outputId": "e8047a77-6961-4362-9f80-cd47c5c62f74"
      },
      "execution_count": 14,
      "outputs": [
        {
          "output_type": "stream",
          "name": "stdout",
          "text": [
            "After row swap (Row 0 with Row 2):\n",
            " [[ 4.  8. 16.  4.]\n",
            " [ 3.  6. 12.  3.]\n",
            " [ 1.  2.  4.  1.]]\n",
            "Current pivot list: [0]\n",
            "After elimination below Row 0:\n",
            " [[ 4.  8. 16.  4.]\n",
            " [ 0.  0.  0.  0.]\n",
            " [ 0.  0.  0.  0.]]\n",
            "Current pivot list: [0]\n",
            "Early stop: no more non-zero columns.\n",
            "After row swap (Row 0 with Row 2):\n",
            " [[ 4.  8. 16.  6.]\n",
            " [ 3.  6. 12.  3.]\n",
            " [ 1.  2.  4.  1.]]\n",
            "Current pivot list: [0]\n",
            "After elimination below Row 0:\n",
            " [[ 4.   8.  16.   6. ]\n",
            " [ 0.   0.   0.  -1.5]\n",
            " [ 0.   0.   0.  -0.5]]\n",
            "Current pivot list: [0]\n",
            "After row swap (Row 1 with Row 1):\n",
            " [[ 4.   8.  16.   6. ]\n",
            " [ 0.   0.   0.  -1.5]\n",
            " [ 0.   0.   0.  -0.5]]\n",
            "Current pivot list: [0, 3]\n",
            "After elimination below Row 1:\n",
            " [[ 4.   8.  16.   6. ]\n",
            " [ 0.   0.   0.  -1.5]\n",
            " [ 0.   0.   0.   0. ]]\n",
            "Current pivot list: [0, 3]\n",
            "Early stop: no more non-zero columns.\n",
            "After row swap (Row 0 with Row 2):\n",
            " [[ 4.  8. 16.  6.]\n",
            " [ 3.  5. 12.  3.]\n",
            " [ 1.  2.  4.  1.]]\n",
            "Current pivot list: [0]\n",
            "After elimination below Row 0:\n",
            " [[ 4.   8.  16.   6. ]\n",
            " [ 0.  -1.   0.  -1.5]\n",
            " [ 0.   0.   0.  -0.5]]\n",
            "Current pivot list: [0]\n",
            "After row swap (Row 1 with Row 1):\n",
            " [[ 4.   8.  16.   6. ]\n",
            " [ 0.  -1.   0.  -1.5]\n",
            " [ 0.   0.   0.  -0.5]]\n",
            "Current pivot list: [0, 1]\n",
            "After elimination below Row 1:\n",
            " [[ 4.   8.  16.   6. ]\n",
            " [ 0.  -1.   0.  -1.5]\n",
            " [ 0.   0.   0.  -0.5]]\n",
            "Current pivot list: [0, 1]\n",
            "After row swap (Row 2 with Row 2):\n",
            " [[ 4.   8.  16.   6. ]\n",
            " [ 0.  -1.   0.  -1.5]\n",
            " [ 0.   0.   0.  -0.5]]\n",
            "Current pivot list: [0, 1, 3]\n",
            "After elimination below Row 2:\n",
            " [[ 4.   8.  16.   6. ]\n",
            " [ 0.  -1.   0.  -1.5]\n",
            " [ 0.   0.   0.  -0.5]]\n",
            "Current pivot list: [0, 1, 3]\n",
            "Reduced Row Echelon Form of X:\n",
            "[[ 4.  8. 16.  4.]\n",
            " [ 0.  0.  0.  0.]\n",
            " [ 0.  0.  0.  0.]]\n",
            "Rank of X: 1\n",
            "\n",
            "Reduced Row Echelon Form of Y:\n",
            "[[ 4.   8.  16.   6. ]\n",
            " [ 0.   0.   0.  -1.5]\n",
            " [ 0.   0.   0.   0. ]]\n",
            "Rank of Y: 2\n",
            "\n",
            "Reduced Row Echelon Form of Z:\n",
            "[[ 4.   8.  16.   6. ]\n",
            " [ 0.  -1.   0.  -1.5]\n",
            " [ 0.   0.   0.  -0.5]]\n",
            "Rank of Z: 3\n"
          ]
        }
      ]
    },
    {
      "cell_type": "code",
      "source": [
        "from numpy.linalg import matrix_rank\n",
        "#########Validate the answers about the matrices rank###########################\n",
        "r_X = matrix_rank(X)\n",
        "r_Y = matrix_rank(Y)\n",
        "r_Z = matrix_rank(Z)\n",
        "################################################################################"
      ],
      "metadata": {
        "id": "qYyRwHEwBUrh"
      },
      "execution_count": 16,
      "outputs": []
    },
    {
      "cell_type": "markdown",
      "source": [
        "**Please double-click here and fill in the rank and dimension of nullspace of the these matrices**\n",
        "\n",
        "rank(X) = 1, dimension of null(X) = 3\n",
        "\n",
        "rank(Y) = 2, dimension of null(Y) = 2\n",
        "\n",
        "rank(Z) = 3, dimension of null(Z) = 1\n"
      ],
      "metadata": {
        "id": "5DsM9r44rEmE"
      }
    }
  ]
}